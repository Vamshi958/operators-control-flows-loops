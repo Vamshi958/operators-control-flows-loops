{
 "cells": [
  {
   "cell_type": "markdown",
   "id": "747b8211-f73b-4522-b0e1-51d5af61d1f1",
   "metadata": {},
   "source": [
    "Control flows\n",
    "if\n",
    "if else\n",
    "if elif else"
   ]
  },
  {
   "cell_type": "code",
   "execution_count": 3,
   "id": "dbac9d52-d32e-4755-86ab-08d24d72e48d",
   "metadata": {},
   "outputs": [],
   "source": [
    "age = 17"
   ]
  },
  {
   "cell_type": "code",
   "execution_count": 5,
   "id": "4d36a10c-c655-4948-9290-471658a4a5c6",
   "metadata": {},
   "outputs": [],
   "source": [
    "if age>=18:         #this has to be true '''if condition is true then it will work ,false no result\n",
    "    print(\"you can drive\")"
   ]
  },
  {
   "cell_type": "code",
   "execution_count": 6,
   "id": "79b52937-d939-416c-8662-cd7c9da3e3f0",
   "metadata": {},
   "outputs": [
    {
     "name": "stdout",
     "output_type": "stream",
     "text": [
      "you can drive\n"
     ]
    }
   ],
   "source": [
    "if age>=15:         #this has to be true '''if condition is true then it will work ,false no result\n",
    "    print(\"you can drive\")"
   ]
  },
  {
   "cell_type": "code",
   "execution_count": 7,
   "id": "a0887c1e-9ccb-42af-b470-800a1325ecb6",
   "metadata": {},
   "outputs": [
    {
     "name": "stdout",
     "output_type": "stream",
     "text": [
      "you are inside the if block\n"
     ]
    }
   ],
   "source": [
    "x=23\n",
    "if x>=23:\n",
    "    print(\"you are inside the if block\")"
   ]
  },
  {
   "cell_type": "code",
   "execution_count": 9,
   "id": "b8971952-861f-4a2a-b91b-eab77a391aa4",
   "metadata": {},
   "outputs": [
    {
     "name": "stdout",
     "output_type": "stream",
     "text": [
      "you cannot drive\n"
     ]
    }
   ],
   "source": [
    "#else if condition false,then else will give result\n",
    "#if condition true ,it will not go to else\n",
    "age=16\n",
    "if age>=18:\n",
    "    print(\"you can drive\")\n",
    "else:\n",
    "    print(\"you cannot drive\")"
   ]
  },
  {
   "cell_type": "code",
   "execution_count": 12,
   "id": "683cdd16-e0d9-4af6-ab7a-6c070ef869a8",
   "metadata": {},
   "outputs": [
    {
     "name": "stdout",
     "output_type": "stream",
     "text": [
      "grade c\n"
     ]
    }
   ],
   "source": [
    "#elif if you have multiple conditions to check\n",
    "score=75\n",
    "if score>=90:\n",
    "    print(\"excellent performance your grade is A+\")\n",
    "elif score>=80:\n",
    "    print(\"grade A\")\n",
    "elif score>=70:\n",
    "    print(\"grade c\")\n",
    "else:\n",
    "    print(\"grade c\")\n"
   ]
  },
  {
   "cell_type": "code",
   "execution_count": 13,
   "id": "fbe78900-8aba-4b21-87c7-9392be61e337",
   "metadata": {},
   "outputs": [
    {
     "name": "stdout",
     "output_type": "stream",
     "text": [
      "grade c\n"
     ]
    }
   ],
   "source": [
    "score=35\n",
    "if score>=90:\n",
    "    print(\"excellent performance your grade is A+\")\n",
    "elif score>=80:\n",
    "    print(\"grade A\")\n",
    "elif score>=70:\n",
    "    print(\"grade c\")\n",
    "else:\n",
    "    print(\"grade c\")"
   ]
  },
  {
   "cell_type": "code",
   "execution_count": 25,
   "id": "bf01cc2f-2e55-49d2-bb24-2ee2d2213f98",
   "metadata": {},
   "outputs": [
    {
     "name": "stdin",
     "output_type": "stream",
     "text": [
      "enter time between 0 to 23 25\n"
     ]
    },
    {
     "name": "stdout",
     "output_type": "stream",
     "text": [
      "INVALID\n"
     ]
    }
   ],
   "source": [
    "T=int(input(\"enter time between 0 to 23\"))\n",
    "if T<0:\n",
    "      print(\"invalid\")\n",
    "elif 0<=T<=5:\n",
    "      print(\"NIGHT\")\n",
    "elif 6<=T<=11:\n",
    "      print(\"MORNING\")\n",
    "elif 12<=T<=17:\n",
    "      print(\"AFTERNOON\")\n",
    "elif 18<=T<=23:\n",
    "      print(\"EVENING\")\n",
    "else:                               #if nothing above statements not correct then evaluate else\n",
    "      print(\"INVALID\")"
   ]
  },
  {
   "cell_type": "code",
   "execution_count": 28,
   "id": "8ed3cbf9-c495-4cda-b71a-642815a8a348",
   "metadata": {},
   "outputs": [
    {
     "name": "stdout",
     "output_type": "stream",
     "text": [
      "largest number is 30\n"
     ]
    }
   ],
   "source": [
    "#find the largest number from 3 given number\n",
    "num1=10\n",
    "num2=20\n",
    "num3=30\n",
    "\n",
    "if (num1>=num2) and (num1>=num3):\n",
    "    largest=num1\n",
    "    print(\"largest number is\",largest)\n",
    "elif (num2>=num1) and (num2>=num3):\n",
    "    largest=num2\n",
    "    print(\"largest number is\",largest)\n",
    "else:\n",
    "    largest=num3\n",
    "    print(\"largest number is\",largest)"
   ]
  },
  {
   "cell_type": "code",
   "execution_count": 36,
   "id": "036a4ef7-dac8-4410-a59e-8dfe9904085f",
   "metadata": {},
   "outputs": [
    {
     "name": "stdin",
     "output_type": "stream",
     "text": [
      "enetr a number 4\n",
      "enter operation(add,sub,mul,div): dwjbjkfa\n",
      "enter 2 number 5\n"
     ]
    },
    {
     "name": "stdout",
     "output_type": "stream",
     "text": [
      "invalid\n"
     ]
    }
   ],
   "source": [
    "#build the simple calculator where you need to do +,*,-,/\n",
    "a=int(input(\"enetr a number\"))\n",
    "operation=input(\"enter operation(add,sub,mul,div):\")\n",
    "b=int(input(\"enter 2 number\"))\n",
    "\n",
    "if operation==\"add\":\n",
    "    print(a+b)\n",
    "elif operation==\"sub\":\n",
    "    print(a-b)\n",
    "elif operation==\"mul\":\n",
    "    print(a*b)\n",
    "elif operation==\"div\":\n",
    "    print(a/b)\n",
    "else:\n",
    "    print(\"invalid\")\n",
    "\n",
    "      "
   ]
  },
  {
   "cell_type": "code",
   "execution_count": 1,
   "id": "43731396-a8ae-4737-905d-a325eab3042f",
   "metadata": {},
   "outputs": [
    {
     "name": "stdin",
     "output_type": "stream",
     "text": [
      "enter number1: 3\n",
      "enter number1: 5\n",
      "enter op: +\n"
     ]
    },
    {
     "name": "stdout",
     "output_type": "stream",
     "text": [
      "8\n"
     ]
    }
   ],
   "source": [
    "num1=int(input(\"enter number1:\"))\n",
    "num2=int(input(\"enter number1:\"))\n",
    "\n",
    "op=input(\"enter op:\")\n",
    "\n",
    "if op==\"+\":\n",
    "        print(num1+num2)\n",
    "elif op==\"-\":\n",
    "        print(num1-num2)\n",
    "elif op==\"*\":\n",
    "        print(num1*num2)\n",
    "elif op==\"/\":                                   #elif used for multiple conditions\n",
    "        print(num1/num2)\n",
    "else:\n",
    "        print(\"invalid op:\")\n",
    "                         "
   ]
  },
  {
   "cell_type": "code",
   "execution_count": 7,
   "id": "60156427-583c-4653-a3a7-3016cc14b7c7",
   "metadata": {},
   "outputs": [
    {
     "name": "stdout",
     "output_type": "stream",
     "text": [
      "number is 0\n"
     ]
    }
   ],
   "source": [
    "#nested\n",
    "#we have if inside if we have if\n",
    "num = 0\n",
    "\n",
    "if (num>=0):\n",
    "    if num == 0:\n",
    "        print(\"number is 0\")\n",
    "    else:\n",
    "        print(\"numnber is positive\")\n",
    "else:\n",
    "    print(\"number is negative\")"
   ]
  },
  {
   "cell_type": "code",
   "execution_count": 8,
   "id": "63f24cce-85e3-497e-bd42-f428a6c71360",
   "metadata": {},
   "outputs": [
    {
     "data": {
      "text/plain": [
       "range(0, 5)"
      ]
     },
     "execution_count": 8,
     "metadata": {},
     "output_type": "execute_result"
    }
   ],
   "source": [
    "#range function - used to generate the sequence of number\n",
    "range(5)\n"
   ]
  },
  {
   "cell_type": "code",
   "execution_count": 9,
   "id": "3d89fdab-18d1-45e4-8fb6-43ec2f74336f",
   "metadata": {},
   "outputs": [
    {
     "data": {
      "text/plain": [
       "[0, 1, 2, 3, 4]"
      ]
     },
     "execution_count": 9,
     "metadata": {},
     "output_type": "execute_result"
    }
   ],
   "source": [
    "list(range(5))"
   ]
  },
  {
   "cell_type": "code",
   "execution_count": 3,
   "id": "afbb86f4-3baf-4848-b1d6-a13ff65acf35",
   "metadata": {},
   "outputs": [],
   "source": [
    "#range(start,stop,step)"
   ]
  },
  {
   "cell_type": "code",
   "execution_count": 2,
   "id": "f6a13c26-e168-4c32-a8b0-71b1ea4f7aa1",
   "metadata": {},
   "outputs": [
    {
     "data": {
      "text/plain": [
       "[0, 1, 2, 3, 4, 5, 6, 7, 8, 9]"
      ]
     },
     "execution_count": 2,
     "metadata": {},
     "output_type": "execute_result"
    }
   ],
   "source": [
    "list(range(10))"
   ]
  },
  {
   "cell_type": "code",
   "execution_count": 4,
   "id": "7c6b11d9-c367-49b7-b7b3-a9707a8b250d",
   "metadata": {},
   "outputs": [
    {
     "data": {
      "text/plain": [
       "[2, 3, 4, 5, 6, 7, 8, 9]"
      ]
     },
     "execution_count": 4,
     "metadata": {},
     "output_type": "execute_result"
    }
   ],
   "source": [
    "list(range(2,10))"
   ]
  },
  {
   "cell_type": "code",
   "execution_count": 5,
   "id": "3d53b9c7-7b0c-4e68-a735-16b460da7c96",
   "metadata": {},
   "outputs": [
    {
     "data": {
      "text/plain": [
       "[2, 4, 6, 8]"
      ]
     },
     "execution_count": 5,
     "metadata": {},
     "output_type": "execute_result"
    }
   ],
   "source": [
    "list(range(2,10,2))"
   ]
  },
  {
   "cell_type": "code",
   "execution_count": 6,
   "id": "30290007-8600-4ead-8eae-775871338b19",
   "metadata": {},
   "outputs": [
    {
     "data": {
      "text/plain": [
       "[45,\n",
       " 46,\n",
       " 47,\n",
       " 48,\n",
       " 49,\n",
       " 50,\n",
       " 51,\n",
       " 52,\n",
       " 53,\n",
       " 54,\n",
       " 55,\n",
       " 56,\n",
       " 57,\n",
       " 58,\n",
       " 59,\n",
       " 60,\n",
       " 61,\n",
       " 62,\n",
       " 63,\n",
       " 64,\n",
       " 65,\n",
       " 66,\n",
       " 67,\n",
       " 68,\n",
       " 69,\n",
       " 70,\n",
       " 71,\n",
       " 72,\n",
       " 73,\n",
       " 74,\n",
       " 75,\n",
       " 76,\n",
       " 77]"
      ]
     },
     "execution_count": 6,
     "metadata": {},
     "output_type": "execute_result"
    }
   ],
   "source": [
    "list(range(45,78))"
   ]
  },
  {
   "cell_type": "markdown",
   "id": "f01b8d40-6ad9-4e62-890a-55dfbe92a8a3",
   "metadata": {},
   "source": [
    "#to execute line multiple times based on certain condition\n",
    "for loop \n",
    "while loop"
   ]
  },
  {
   "cell_type": "code",
   "execution_count": 7,
   "id": "47aab81d-3d6e-4fac-8790-78d18aef3c25",
   "metadata": {},
   "outputs": [
    {
     "name": "stdout",
     "output_type": "stream",
     "text": [
      "0\n",
      "1\n",
      "2\n",
      "3\n",
      "4\n"
     ]
    }
   ],
   "source": [
    "for i in range(5):\n",
    "    print(i)"
   ]
  },
  {
   "cell_type": "code",
   "execution_count": 8,
   "id": "8ceb5504-fedc-4834-bf6a-04afdb020d27",
   "metadata": {},
   "outputs": [
    {
     "name": "stdout",
     "output_type": "stream",
     "text": [
      "0\n",
      "1\n",
      "2\n"
     ]
    }
   ],
   "source": [
    "for i in range(3):\n",
    "    print(i)\n",
    "    "
   ]
  },
  {
   "cell_type": "code",
   "execution_count": 10,
   "id": "363d6f2b-8bea-437f-99a3-6b21a30e794e",
   "metadata": {},
   "outputs": [
    {
     "name": "stdout",
     "output_type": "stream",
     "text": [
      "a\n",
      "b\n",
      "c\n"
     ]
    }
   ],
   "source": [
    "for x in [\"a\",\"b\",\"c\"]:\n",
    "    print(x)"
   ]
  },
  {
   "cell_type": "code",
   "execution_count": 13,
   "id": "2cc741ce-991c-4a28-97b9-96f5960d694a",
   "metadata": {},
   "outputs": [
    {
     "name": "stdout",
     "output_type": "stream",
     "text": [
      "p\n",
      "w\n",
      "s\n",
      "k\n",
      "i\n",
      "l\n",
      "l\n",
      "s\n"
     ]
    }
   ],
   "source": [
    "for i in \"pwskills\":   #you can loop over string,tuple,dictionary\n",
    "    print(i)"
   ]
  },
  {
   "cell_type": "code",
   "execution_count": 14,
   "id": "2dd8e18e-0dd9-4766-88ac-4d685ddc855b",
   "metadata": {},
   "outputs": [
    {
     "ename": "TypeError",
     "evalue": "'int' object is not iterable",
     "output_type": "error",
     "traceback": [
      "\u001b[0;31m---------------------------------------------------------------------------\u001b[0m",
      "\u001b[0;31mTypeError\u001b[0m                                 Traceback (most recent call last)",
      "Cell \u001b[0;32mIn[14], line 1\u001b[0m\n\u001b[0;32m----> 1\u001b[0m \u001b[38;5;28;01mfor\u001b[39;00m i \u001b[38;5;129;01min\u001b[39;00m \u001b[38;5;241m23\u001b[39m:          \u001b[38;5;66;03m#you cant loop over integer\u001b[39;00m\n\u001b[1;32m      2\u001b[0m     \u001b[38;5;28mprint\u001b[39m(i)\n",
      "\u001b[0;31mTypeError\u001b[0m: 'int' object is not iterable"
     ]
    }
   ],
   "source": [
    "for i in 23:          #you cant loop over integer\n",
    "    print(i)          #iterable means where you can do loop\n",
    "                      # i is iterable object-you can you use any  variable"
   ]
  },
  {
   "cell_type": "code",
   "execution_count": 17,
   "id": "866f1420-69e9-417d-a9ae-23d3d52f74e9",
   "metadata": {},
   "outputs": [],
   "source": [
    "x={\"name\":\"vamshi\",\"city\":\"banglore\"}\n"
   ]
  },
  {
   "cell_type": "code",
   "execution_count": 18,
   "id": "29ec8d38-3b50-462b-b467-453f210d909b",
   "metadata": {},
   "outputs": [
    {
     "name": "stdout",
     "output_type": "stream",
     "text": [
      "vamshi\n",
      "banglore\n"
     ]
    }
   ],
   "source": [
    "for i in x.values():\n",
    "    print(i)"
   ]
  },
  {
   "cell_type": "code",
   "execution_count": 19,
   "id": "a939489c-581f-4cb3-bc87-b5670fce2cc5",
   "metadata": {},
   "outputs": [
    {
     "name": "stdout",
     "output_type": "stream",
     "text": [
      "name\n",
      "city\n"
     ]
    }
   ],
   "source": [
    "for i in x.keys():\n",
    "    print(i)"
   ]
  },
  {
   "cell_type": "code",
   "execution_count": 20,
   "id": "cb1c512b-0210-4a87-a988-4338b622d209",
   "metadata": {},
   "outputs": [
    {
     "data": {
      "text/plain": [
       "range(0, 4)"
      ]
     },
     "execution_count": 20,
     "metadata": {},
     "output_type": "execute_result"
    }
   ],
   "source": [
    "range(4)"
   ]
  },
  {
   "cell_type": "code",
   "execution_count": 22,
   "id": "f3dff0ce-b48d-49d2-9e2a-7016c7fb4559",
   "metadata": {},
   "outputs": [
    {
     "data": {
      "text/plain": [
       "[0, 1, 2, 3]"
      ]
     },
     "execution_count": 22,
     "metadata": {},
     "output_type": "execute_result"
    }
   ],
   "source": [
    "list(range(4))\n",
    " #range(start,stop,step)    "
   ]
  },
  {
   "cell_type": "code",
   "execution_count": 23,
   "id": "37334cd3-df68-4028-a81f-2b2e55b5449c",
   "metadata": {},
   "outputs": [
    {
     "data": {
      "text/plain": [
       "[2, 3, 4]"
      ]
     },
     "execution_count": 23,
     "metadata": {},
     "output_type": "execute_result"
    }
   ],
   "source": [
    "list(range(2,5))"
   ]
  },
  {
   "cell_type": "code",
   "execution_count": 24,
   "id": "4b886581-f5e5-418f-a057-0b937485ee64",
   "metadata": {},
   "outputs": [
    {
     "data": {
      "text/plain": [
       "[2, 4]"
      ]
     },
     "execution_count": 24,
     "metadata": {},
     "output_type": "execute_result"
    }
   ],
   "source": [
    "list(range(2,5,2))"
   ]
  },
  {
   "cell_type": "code",
   "execution_count": 26,
   "id": "7bc03d7e-0e24-4a14-ac39-80aaf8a57160",
   "metadata": {},
   "outputs": [
    {
     "name": "stdout",
     "output_type": "stream",
     "text": [
      "2\n",
      "5\n",
      "8\n"
     ]
    }
   ],
   "source": [
    "for i in range(2,9,3):\n",
    "    print(i)\n",
    "    "
   ]
  },
  {
   "cell_type": "code",
   "execution_count": 27,
   "id": "4a37d915-09ea-4521-ac62-6ac983366ae8",
   "metadata": {},
   "outputs": [
    {
     "name": "stdout",
     "output_type": "stream",
     "text": [
      "inida\n",
      "germany\n",
      "uk\n"
     ]
    }
   ],
   "source": [
    "country=[\"inida\",\"germany\",\"uk\",]\n",
    "for city in country:\n",
    "    print(city)"
   ]
  },
  {
   "cell_type": "code",
   "execution_count": 28,
   "id": "339684c8-4431-45a7-aebf-3cbf9ad67cd6",
   "metadata": {},
   "outputs": [
    {
     "name": "stdout",
     "output_type": "stream",
     "text": [
      "i\n",
      "g\n",
      "u\n"
     ]
    }
   ],
   "source": [
    "country=[\"inida\",\"germany\",\"uk\",]\n",
    "for city in country:\n",
    "    print(city[0])"
   ]
  },
  {
   "cell_type": "code",
   "execution_count": 36,
   "id": "f77185cf-1606-4aa6-869e-c3d123ae2719",
   "metadata": {},
   "outputs": [
    {
     "name": "stdout",
     "output_type": "stream",
     "text": [
      "india\n",
      "0\n",
      "germany\n",
      "1\n",
      "uk\n",
      "2\n"
     ]
    }
   ],
   "source": [
    "country=[\"india\",\"germany\",\"uk\",]\n",
    "\n",
    "\n",
    "for index in range(len(country)):    #len-3   range(3)-012-values names it printed\n",
    "    print(country[index])  #country[0]-india,country[1]-germany,country[2]-uk-loop breaks\n",
    "    print(index)           #0,1,2"
   ]
  },
  {
   "cell_type": "code",
   "execution_count": 38,
   "id": "a55d46b1-0ea1-4ff0-a4d6-ec0720802c28",
   "metadata": {},
   "outputs": [],
   "source": [
    "dict={\"x1\":1,\"x2\":2,\"x3\":3}"
   ]
  },
  {
   "cell_type": "code",
   "execution_count": 39,
   "id": "fc096fea-0dd9-4298-a7c9-8d0172582350",
   "metadata": {},
   "outputs": [
    {
     "data": {
      "text/plain": [
       "dict_keys(['x1', 'x2', 'x3'])"
      ]
     },
     "execution_count": 39,
     "metadata": {},
     "output_type": "execute_result"
    }
   ],
   "source": [
    "dict.keys()"
   ]
  },
  {
   "cell_type": "code",
   "execution_count": 41,
   "id": "e88c6ebc-a7dc-44f9-a936-e06f6c30ecf0",
   "metadata": {},
   "outputs": [
    {
     "data": {
      "text/plain": [
       "dict_values([1, 2, 3])"
      ]
     },
     "execution_count": 41,
     "metadata": {},
     "output_type": "execute_result"
    }
   ],
   "source": [
    "dict.values()"
   ]
  },
  {
   "cell_type": "code",
   "execution_count": 49,
   "id": "3fd78d21-ee5b-4cb7-a16d-3fa24aef9ba7",
   "metadata": {},
   "outputs": [
    {
     "name": "stdout",
     "output_type": "stream",
     "text": [
      "x1 1\n",
      "x2 2\n",
      "x3 3\n"
     ]
    }
   ],
   "source": [
    "for vamshi in dict:\n",
    "    print(vamshi,dict[vamshi]) #peinting key and key values"
   ]
  },
  {
   "cell_type": "code",
   "execution_count": 45,
   "id": "34a17166-5d36-417e-8811-3ef062c8b43a",
   "metadata": {},
   "outputs": [
    {
     "data": {
      "text/plain": [
       "1"
      ]
     },
     "execution_count": 45,
     "metadata": {},
     "output_type": "execute_result"
    }
   ],
   "source": [
    "dict[\"x1\"]     #dict[key]"
   ]
  },
  {
   "cell_type": "code",
   "execution_count": 48,
   "id": "15532d74-c693-44ad-b1e8-68efe5b72a1a",
   "metadata": {},
   "outputs": [
    {
     "name": "stdout",
     "output_type": "stream",
     "text": [
      "1\n",
      "2\n",
      "3\n"
     ]
    }
   ],
   "source": [
    "for vamshi in dict.values():\n",
    "    print(vamshi)"
   ]
  },
  {
   "cell_type": "code",
   "execution_count": 50,
   "id": "0247deb6-3908-4f5d-9869-faa1f8148130",
   "metadata": {},
   "outputs": [
    {
     "name": "stdout",
     "output_type": "stream",
     "text": [
      "x1\n",
      "x2\n",
      "x3\n"
     ]
    }
   ],
   "source": [
    "for vamshi in dict.keys():\n",
    "    print(vamshi)"
   ]
  },
  {
   "cell_type": "code",
   "execution_count": 51,
   "id": "fa4b57b2-fe7d-4cff-b22b-f12a845bd6c3",
   "metadata": {},
   "outputs": [
    {
     "name": "stdout",
     "output_type": "stream",
     "text": [
      "x1\n",
      "x2\n",
      "x3\n"
     ]
    }
   ],
   "source": [
    "for vamshi in dict:\n",
    "    print(vamshi)"
   ]
  },
  {
   "cell_type": "code",
   "execution_count": 53,
   "id": "b96589c8-ca91-4071-b763-00e0a255362f",
   "metadata": {},
   "outputs": [
    {
     "name": "stdout",
     "output_type": "stream",
     "text": [
      "1\n",
      "2\n",
      "3\n"
     ]
    }
   ],
   "source": [
    "for i in (1,2,3): #tuple\n",
    "    print(i)"
   ]
  },
  {
   "cell_type": "code",
   "execution_count": 55,
   "id": "1f0c7f9b-3761-4699-9038-efd445c53df2",
   "metadata": {},
   "outputs": [
    {
     "name": "stdout",
     "output_type": "stream",
     "text": [
      "1\n",
      "2\n",
      "3\n"
     ]
    }
   ],
   "source": [
    "for i in {1,2,3}:\n",
    "    print(i)\n",
    "    "
   ]
  },
  {
   "cell_type": "code",
   "execution_count": 56,
   "id": "066722d9-2451-4f7c-8877-46138c8e63c7",
   "metadata": {},
   "outputs": [
    {
     "name": "stdout",
     "output_type": "stream",
     "text": [
      "p\n",
      "w\n",
      " \n",
      "s\n",
      "k\n",
      "i\n",
      "l\n",
      "l\n",
      "s\n"
     ]
    }
   ],
   "source": [
    "x=\"pw skills\"\n",
    "for i in x:\n",
    "    print(i)\n",
    "    "
   ]
  },
  {
   "cell_type": "code",
   "execution_count": 59,
   "id": "bc928eff-7ce4-43a7-a369-56be1fee1e6c",
   "metadata": {},
   "outputs": [
    {
     "name": "stdout",
     "output_type": "stream",
     "text": [
      "[0, 1, 2, 3, 4, 5, 6, 7, 8, 9]\n"
     ]
    }
   ],
   "source": [
    "print(list(range(10)))\n"
   ]
  },
  {
   "cell_type": "code",
   "execution_count": 61,
   "id": "1efdd037-956c-4d21-bbb2-ffcf0bbe75d0",
   "metadata": {},
   "outputs": [
    {
     "name": "stdout",
     "output_type": "stream",
     "text": [
      "hi\n",
      "pw\n",
      "skills\n",
      "ineuron\n"
     ]
    }
   ],
   "source": [
    "print(\"hi\")\n",
    "print(\"pw\")\n",
    "print(\"skills\")\n",
    "print(\"ineuron\")"
   ]
  },
  {
   "cell_type": "code",
   "execution_count": 63,
   "id": "22a6e8d4-458a-4cc3-a30e-12882271636b",
   "metadata": {},
   "outputs": [
    {
     "name": "stdout",
     "output_type": "stream",
     "text": [
      "hipwskillsineuron"
     ]
    }
   ],
   "source": [
    "#end statement\n",
    "print(\"hi\",end=\"\")\n",
    "print(\"pw\",end='')\n",
    "print(\"skills\",end='')\n",
    "print(\"ineuron\",end='')"
   ]
  },
  {
   "cell_type": "code",
   "execution_count": 64,
   "id": "f95e9a1f-5b23-4131-8068-422d63d07c3f",
   "metadata": {},
   "outputs": [
    {
     "name": "stdout",
     "output_type": "stream",
     "text": [
      "hi pw skills ineuron "
     ]
    }
   ],
   "source": [
    "print(\"hi\",end=\" \")\n",
    "print(\"pw\",end=' ')\n",
    "print(\"skills\",end=' ')\n",
    "print(\"ineuron\",end=' ')"
   ]
  },
  {
   "cell_type": "code",
   "execution_count": 65,
   "id": "ac34b04b-f6e6-4fc5-8647-a1e6d3474e52",
   "metadata": {},
   "outputs": [
    {
     "name": "stdout",
     "output_type": "stream",
     "text": [
      "hi@pw@skills@ineuron@"
     ]
    }
   ],
   "source": [
    "print(\"hi\",end=\"@\")\n",
    "print(\"pw\",end='@')\n",
    "print(\"skills\",end='@')\n",
    "print(\"ineuron\",end='@')"
   ]
  },
  {
   "cell_type": "code",
   "execution_count": 66,
   "id": "7160e91c-121f-4d21-826b-2cd79e5cc23f",
   "metadata": {},
   "outputs": [
    {
     "name": "stdout",
     "output_type": "stream",
     "text": [
      "0 1 2 3 4 5 6 7 8 9 "
     ]
    }
   ],
   "source": [
    "for i in range(10):\n",
    "    print(i,end=' ')"
   ]
  },
  {
   "cell_type": "code",
   "execution_count": 67,
   "id": "906f98bc-11c8-4e99-8a30-b432cd57962b",
   "metadata": {},
   "outputs": [
    {
     "name": "stdout",
     "output_type": "stream",
     "text": [
      "0\n",
      "1\n",
      "2\n",
      "3\n",
      "4\n",
      "5\n",
      "6\n",
      "7\n",
      "8\n",
      "9\n"
     ]
    }
   ],
   "source": [
    "for i in range(10):\n",
    "    print(i)"
   ]
  },
  {
   "cell_type": "code",
   "execution_count": 70,
   "id": "50faff85-e330-452a-8639-e96cd7c85272",
   "metadata": {},
   "outputs": [
    {
     "name": "stdout",
     "output_type": "stream",
     "text": [
      "0\n",
      "1\n",
      "2\n",
      "3\n",
      "4\n",
      "done\n"
     ]
    }
   ],
   "source": [
    "for i in range(5):\n",
    "    print(i)\n",
    "else:\n",
    "    print(\"done\")"
   ]
  },
  {
   "cell_type": "code",
   "execution_count": 75,
   "id": "10d04334-cac3-4317-a75d-640672f74715",
   "metadata": {},
   "outputs": [
    {
     "name": "stdout",
     "output_type": "stream",
     "text": [
      "* \n",
      "* * \n",
      "* * * \n",
      "* * * * \n",
      "* * * * * \n"
     ]
    }
   ],
   "source": [
    "#patterns\n",
    "for i in range(5):\n",
    "    for j in range(i+1):\n",
    "        print(\"*\",end=\" \")\n",
    "    print()"
   ]
  },
  {
   "cell_type": "code",
   "execution_count": 78,
   "id": "7fb3a07d-8c0e-442c-a5c8-1343feac3e22",
   "metadata": {},
   "outputs": [
    {
     "name": "stdout",
     "output_type": "stream",
     "text": [
      "*\n",
      "\n",
      "*\n",
      "*\n",
      "\n",
      "*\n",
      "*\n",
      "*\n",
      "\n",
      "*\n",
      "*\n",
      "*\n",
      "*\n",
      "\n",
      "*\n",
      "*\n",
      "*\n",
      "*\n",
      "*\n",
      "\n"
     ]
    }
   ],
   "source": [
    "for i in range(5):\n",
    "    for j in range(i+1):\n",
    "        print(\"*\")\n",
    "    print()"
   ]
  },
  {
   "cell_type": "code",
   "execution_count": 87,
   "id": "06c3c8e6-71de-4dac-904b-1c377b635d9e",
   "metadata": {},
   "outputs": [
    {
     "name": "stdout",
     "output_type": "stream",
     "text": [
      "* * * * * \n",
      "* * * * \n",
      "* * * \n",
      "* * \n",
      "* \n"
     ]
    }
   ],
   "source": [
    "for i in range(5,0,-1):\n",
    "    for j in range(i,0,-1):\n",
    "        print(\"*\",end=\" \")\n",
    "    print()"
   ]
  },
  {
   "cell_type": "code",
   "execution_count": 92,
   "id": "f7dd8622-e26d-439e-ae34-400c84174a33",
   "metadata": {},
   "outputs": [
    {
     "name": "stdout",
     "output_type": "stream",
     "text": [
      "1\n",
      "2\n",
      "3\n",
      "4\n",
      "5\n",
      "6\n",
      "7\n",
      "8\n",
      "9\n",
      "10\n"
     ]
    }
   ],
   "source": [
    "#1 table\n",
    "for i in range(1,11,1):\n",
    "    print(i)"
   ]
  },
  {
   "cell_type": "code",
   "execution_count": 102,
   "id": "27505a65-3130-4371-806e-d5152799e6c1",
   "metadata": {},
   "outputs": [
    {
     "name": "stdout",
     "output_type": "stream",
     "text": [
      "& & & & \n",
      "& & & & \n",
      "& & & & \n"
     ]
    }
   ],
   "source": [
    "#2 table\n",
    "for i in list(range(1,4,1)):\n",
    "    for j in range(4):\n",
    "        print(\"&\",end=\" \")\n",
    "    print()"
   ]
  },
  {
   "cell_type": "code",
   "execution_count": 94,
   "id": "8275407b-4f1e-42ec-9166-4517f0f186c6",
   "metadata": {},
   "outputs": [
    {
     "name": "stdout",
     "output_type": "stream",
     "text": [
      "3\n",
      "6\n",
      "9\n",
      "12\n",
      "15\n",
      "18\n",
      "21\n",
      "24\n",
      "27\n",
      "30\n"
     ]
    }
   ],
   "source": [
    "#3 table\n",
    "for i in range(3,33,3):\n",
    "    print(i)"
   ]
  },
  {
   "cell_type": "code",
   "execution_count": 103,
   "id": "e59c284f-4de8-483d-8156-c8d3a3c8d5b7",
   "metadata": {},
   "outputs": [
    {
     "name": "stdout",
     "output_type": "stream",
     "text": [
      "1 2 3 4 5 \n",
      "2 4 6 8 10 \n",
      "3 6 9 12 15 \n",
      "4 8 12 16 20 \n",
      "5 10 15 20 25 \n"
     ]
    }
   ],
   "source": [
    "for i in range(1,6):  \n",
    "    for j in range(1,6): #range-for i and j 1,2,3,4,5   1*1 peint-1 1*2 1*3 1*4 1*5 next i=2 2*1 2*2 2*3 2*4 2*5 next i=3 same repeats\n",
    "        print(i*j,end=' ')\n",
    "    print()"
   ]
  },
  {
   "cell_type": "code",
   "execution_count": 106,
   "id": "89e8c443-a93a-4790-8067-57e2b15ffd41",
   "metadata": {},
   "outputs": [
    {
     "name": "stdout",
     "output_type": "stream",
     "text": [
      "1\n",
      "2\n",
      "3\n",
      "4\n",
      "5\n"
     ]
    }
   ],
   "source": [
    "#while loop\n",
    "count =1\n",
    "while count<=5:      #condition must,if condition true then it will enter loop\n",
    "    print(count)\n",
    "    count=count+1 #count+=1\n",
    "                  #always you need to put increment when you are dealing with while loop\n",
    "    "
   ]
  },
  {
   "cell_type": "code",
   "execution_count": 108,
   "id": "a260b972-972f-491b-8d11-bf8f10620c08",
   "metadata": {},
   "outputs": [
    {
     "name": "stdin",
     "output_type": "stream",
     "text": [
      "enter a word i\n"
     ]
    },
    {
     "name": "stdout",
     "output_type": "stream",
     "text": [
      "you entered i\n"
     ]
    },
    {
     "name": "stdin",
     "output_type": "stream",
     "text": [
      "enter a word o\n"
     ]
    },
    {
     "name": "stdout",
     "output_type": "stream",
     "text": [
      "you entered o\n"
     ]
    },
    {
     "name": "stdin",
     "output_type": "stream",
     "text": [
      "enter a word j\n"
     ]
    },
    {
     "name": "stdout",
     "output_type": "stream",
     "text": [
      "you entered j\n"
     ]
    },
    {
     "name": "stdin",
     "output_type": "stream",
     "text": [
      "enter a word dhhd\n"
     ]
    },
    {
     "name": "stdout",
     "output_type": "stream",
     "text": [
      "you entered dhhd\n"
     ]
    },
    {
     "name": "stdin",
     "output_type": "stream",
     "text": [
      "enter a word quit\n"
     ]
    },
    {
     "name": "stdout",
     "output_type": "stream",
     "text": [
      "you entered quit\n"
     ]
    }
   ],
   "source": [
    "text=\" \"       #when number of iterations kn\n",
    "\n",
    "while text!=\"quit\":\n",
    "    text=input(\"enter a word\")\n",
    "    print(\"you entered\",text)"
   ]
  },
  {
   "cell_type": "code",
   "execution_count": 110,
   "id": "9cef0647-0ca9-46aa-9c7a-84504e3746a4",
   "metadata": {},
   "outputs": [
    {
     "name": "stdin",
     "output_type": "stream",
     "text": [
      "enter a word j\n"
     ]
    },
    {
     "name": "stdout",
     "output_type": "stream",
     "text": [
      "you entered j\n"
     ]
    }
   ],
   "source": [
    "text=\" \"       #when number of iterations kn\n",
    "\n",
    "while text!=\"quit\":         #checkking condition:whether text=quit or not\n",
    "    text=input(\"enter a word\") #appending the text\n",
    "    print(\"you entered\",text)  #telling you entered\n",
    "    text=\"quit\"\n",
    "    "
   ]
  },
  {
   "cell_type": "markdown",
   "id": "1a5fa518-4dee-4c1e-8384-2ba33659168a",
   "metadata": {},
   "source": [
    "if you know how many times you will iterate -go with for loop\n",
    "if you dont know how many times you will iterate -go with while loop\n"
   ]
  },
  {
   "cell_type": "code",
   "execution_count": 1,
   "id": "3e2788ee-4ddf-4d2c-8c48-6d8abf4444fd",
   "metadata": {},
   "outputs": [
    {
     "name": "stdin",
     "output_type": "stream",
     "text": [
      "enter age 2\n"
     ]
    },
    {
     "name": "stdout",
     "output_type": "stream",
     "text": [
      "you enterd  2\n"
     ]
    },
    {
     "name": "stdin",
     "output_type": "stream",
     "text": [
      "enter age 3\n"
     ]
    },
    {
     "name": "stdout",
     "output_type": "stream",
     "text": [
      "you enterd  3\n"
     ]
    },
    {
     "name": "stdin",
     "output_type": "stream",
     "text": [
      "enter age 23\n"
     ]
    },
    {
     "name": "stdout",
     "output_type": "stream",
     "text": [
      "you enterd  23\n"
     ]
    }
   ],
   "source": [
    "#guess the age\n",
    "age=0\n",
    "while age!=23:\n",
    "    age=int(input(\"enter age\"))\n",
    "    print(\"you enterd \",age)"
   ]
  },
  {
   "cell_type": "code",
   "execution_count": 3,
   "id": "f0e56615-91d1-4d63-9d04-57df268f69f0",
   "metadata": {},
   "outputs": [
    {
     "name": "stdin",
     "output_type": "stream",
     "text": [
      "enter your age 2\n"
     ]
    },
    {
     "name": "stdout",
     "output_type": "stream",
     "text": [
      "invalid age\n"
     ]
    },
    {
     "name": "stdin",
     "output_type": "stream",
     "text": [
      "enter your age 3\n"
     ]
    },
    {
     "name": "stdout",
     "output_type": "stream",
     "text": [
      "invalid age\n"
     ]
    },
    {
     "name": "stdin",
     "output_type": "stream",
     "text": [
      "enter your age 23\n"
     ]
    },
    {
     "name": "stdout",
     "output_type": "stream",
     "text": [
      "invalid age\n",
      "age is from list\n"
     ]
    }
   ],
   "source": [
    "#guess the age\n",
    "list=[23,23,22,21,20]\n",
    "age=0;\n",
    "while age not in list:\n",
    "    age=int(input(\"enter your age\"))\n",
    "    print(\"invalid age\")\n",
    "else:\n",
    "    print(\"age is from list\");"
   ]
  },
  {
   "cell_type": "code",
   "execution_count": 6,
   "id": "496e53ea-aa62-4767-b319-2ccf93c43834",
   "metadata": {},
   "outputs": [
    {
     "name": "stdout",
     "output_type": "stream",
     "text": [
      "***\n"
     ]
    }
   ],
   "source": [
    "print(\"*\"*3)"
   ]
  },
  {
   "cell_type": "code",
   "execution_count": null,
   "id": "c971dc1a-2362-43d9-aa8b-393ea392edf7",
   "metadata": {},
   "outputs": [],
   "source": []
  }
 ],
 "metadata": {
  "kernelspec": {
   "display_name": "Python 3 (ipykernel)",
   "language": "python",
   "name": "python3"
  },
  "language_info": {
   "codemirror_mode": {
    "name": "ipython",
    "version": 3
   },
   "file_extension": ".py",
   "mimetype": "text/x-python",
   "name": "python",
   "nbconvert_exporter": "python",
   "pygments_lexer": "ipython3",
   "version": "3.10.8"
  }
 },
 "nbformat": 4,
 "nbformat_minor": 5
}
